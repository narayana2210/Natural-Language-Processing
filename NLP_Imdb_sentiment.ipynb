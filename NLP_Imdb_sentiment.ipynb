{
 "cells": [
  {
   "cell_type": "code",
   "execution_count": null,
   "metadata": {},
   "outputs": [],
   "source": [
    "#https://www.kaggle.com/saikumar587/imdb-text-classification-tf-idf-and-elmo"
   ]
  },
  {
   "cell_type": "code",
   "execution_count": 3,
   "metadata": {},
   "outputs": [
    {
     "name": "stderr",
     "output_type": "stream",
     "text": [
      "Using TensorFlow backend.\n",
      "C:\\Users\\naray\\Anaconda3\\lib\\site-packages\\sklearn\\utils\\deprecation.py:144: FutureWarning: The sklearn.feature_extraction.stop_words module is  deprecated in version 0.22 and will be removed in version 0.24. The corresponding classes / functions should instead be imported from sklearn.feature_extraction.text. Anything that cannot be imported from sklearn.feature_extraction.text is now part of the private API.\n",
      "  warnings.warn(message, FutureWarning)\n"
     ]
    }
   ],
   "source": [
    "import glob\n",
    "from sklearn import model_selection, preprocessing, linear_model, naive_bayes, metrics\n",
    "from sklearn.feature_extraction.text import TfidfVectorizer, CountVectorizer,HashingVectorizer\n",
    "from sklearn import decomposition, ensemble\n",
    "from sklearn.decomposition import PCA\n",
    "import xgboost\n",
    "\n",
    "import keras\n",
    "from keras.layers import Input, Lambda, Dense\n",
    "from keras.models import Model\n",
    "import keras.backend as K\n",
    "\n",
    "from sklearn.utils import shuffle\n",
    "import matplotlib.pyplot as plt\n",
    "import seaborn as sns\n",
    "import numpy as np\n",
    "import string\n",
    "import pandas as pd\n",
    "from nltk.stem.porter import PorterStemmer\n",
    "import re\n",
    "import spacy\n",
    "from nltk.corpus import stopwords\n",
    "from sklearn.feature_extraction.stop_words import ENGLISH_STOP_WORDS\n",
    "from spacy.lang.en import English\n",
    "#spacy.load('en')\n",
    "parser = English()"
   ]
  },
  {
   "cell_type": "code",
   "execution_count": 4,
   "metadata": {},
   "outputs": [],
   "source": [
    "#Load text files from train folder\n",
    "pos_tran_files = glob.glob('C:\\\\Users\\\\naray\\\\Desktop\\\\imdb\\\\aclImdb\\\\train\\\\pos' + \"/*.txt\")\n",
    "neg_train_files = glob.glob('C:\\\\Users\\\\naray\\\\Desktop\\\\imdb\\\\aclImdb\\\\train\\\\neg' + \"/*.txt\")"
   ]
  },
  {
   "cell_type": "code",
   "execution_count": 5,
   "metadata": {},
   "outputs": [],
   "source": [
    "#read text files from train folder\n",
    "pos_train_txt = []\n",
    "pos_train_label = []\n",
    "for txt in pos_tran_files:\n",
    "    data = open(txt,encoding=\"utf-8\").read()\n",
    "    pos_train_txt.append(data)\n",
    "    pos_train_label.append('pos')\n",
    "    \n",
    "neg_train_txt = []\n",
    "neg_train_label = []\n",
    "for txt in neg_train_files:\n",
    "    data = open(txt,encoding=\"utf-8\").read()\n",
    "    neg_train_txt.append(data)\n",
    "    neg_train_label.append('neg')"
   ]
  },
  {
   "cell_type": "code",
   "execution_count": 6,
   "metadata": {},
   "outputs": [],
   "source": [
    "#Load text files from test folder\n",
    "pos_test_files = glob.glob('C:\\\\Users\\\\naray\\\\Desktop\\\\imdb\\\\aclImdb\\\\test\\\\pos' + \"/*.txt\")\n",
    "neg_test_files = glob.glob('C:\\\\Users\\\\naray\\\\Desktop\\\\imdb\\\\aclImdb\\\\test\\\\neg' + \"/*.txt\")"
   ]
  },
  {
   "cell_type": "code",
   "execution_count": 7,
   "metadata": {},
   "outputs": [],
   "source": [
    "#read text files from test folder\n",
    "pos_test_txt = []\n",
    "pos_test_label = []\n",
    "for txt in pos_test_files:\n",
    "    data = open(txt,encoding=\"utf-8\").read()\n",
    "    pos_test_txt.append(data)\n",
    "    pos_test_label.append('pos')\n",
    "    \n",
    "neg_test_txt = []\n",
    "neg_test_label = []\n",
    "for txt in neg_test_files:\n",
    "    data = open(txt,encoding=\"utf-8\").read()\n",
    "    neg_test_txt.append(data)\n",
    "    neg_test_label.append('neg')"
   ]
  },
  {
   "cell_type": "code",
   "execution_count": 8,
   "metadata": {},
   "outputs": [],
   "source": [
    "# create train dataframe\n",
    "train_pos_DF = pd.DataFrame()\n",
    "\n",
    "train_pos_DF['text'] = pos_train_txt\n",
    "train_pos_DF['label'] = pos_train_label\n",
    "\n",
    "train_neg_DF = pd.DataFrame()\n",
    "\n",
    "train_neg_DF['text'] = neg_train_txt\n",
    "train_neg_DF['label'] = neg_train_label\n",
    "\n",
    "trainDF = pd.concat([train_pos_DF,train_neg_DF])\n",
    "trainDF = shuffle(trainDF)\n",
    "trainDF = trainDF.reset_index(drop=True)"
   ]
  },
  {
   "cell_type": "code",
   "execution_count": 9,
   "metadata": {},
   "outputs": [
    {
     "data": {
      "text/html": [
       "<div>\n",
       "<style scoped>\n",
       "    .dataframe tbody tr th:only-of-type {\n",
       "        vertical-align: middle;\n",
       "    }\n",
       "\n",
       "    .dataframe tbody tr th {\n",
       "        vertical-align: top;\n",
       "    }\n",
       "\n",
       "    .dataframe thead th {\n",
       "        text-align: right;\n",
       "    }\n",
       "</style>\n",
       "<table border=\"1\" class=\"dataframe\">\n",
       "  <thead>\n",
       "    <tr style=\"text-align: right;\">\n",
       "      <th></th>\n",
       "      <th>text</th>\n",
       "      <th>label</th>\n",
       "    </tr>\n",
       "  </thead>\n",
       "  <tbody>\n",
       "    <tr>\n",
       "      <th>0</th>\n",
       "      <td>Alright, before we review, I have to ask: why ...</td>\n",
       "      <td>pos</td>\n",
       "    </tr>\n",
       "    <tr>\n",
       "      <th>1</th>\n",
       "      <td>Black guy becomes rich white guy, and rich whi...</td>\n",
       "      <td>neg</td>\n",
       "    </tr>\n",
       "    <tr>\n",
       "      <th>2</th>\n",
       "      <td>This film illustrates the worst part of surviv...</td>\n",
       "      <td>pos</td>\n",
       "    </tr>\n",
       "  </tbody>\n",
       "</table>\n",
       "</div>"
      ],
      "text/plain": [
       "                                                text label\n",
       "0  Alright, before we review, I have to ask: why ...   pos\n",
       "1  Black guy becomes rich white guy, and rich whi...   neg\n",
       "2  This film illustrates the worst part of surviv...   pos"
      ]
     },
     "execution_count": 9,
     "metadata": {},
     "output_type": "execute_result"
    }
   ],
   "source": [
    "trainDF.head(3)"
   ]
  },
  {
   "cell_type": "code",
   "execution_count": 11,
   "metadata": {},
   "outputs": [
    {
     "data": {
      "text/plain": [
       "(10002, 2)"
      ]
     },
     "execution_count": 11,
     "metadata": {},
     "output_type": "execute_result"
    }
   ],
   "source": [
    "trainDF.shape"
   ]
  },
  {
   "cell_type": "code",
   "execution_count": 10,
   "metadata": {},
   "outputs": [],
   "source": [
    "# create test dataframe\n",
    "test_pos_DF = pd.DataFrame()\n",
    "\n",
    "test_pos_DF['text'] = pos_test_txt\n",
    "test_pos_DF['label'] = pos_test_label\n",
    "\n",
    "test_neg_DF = pd.DataFrame()\n",
    "\n",
    "test_neg_DF['text'] = neg_test_txt\n",
    "test_neg_DF['label'] = neg_test_label\n",
    "\n",
    "testDF = pd.concat([test_pos_DF,test_neg_DF])\n",
    "testDF = shuffle(testDF)\n",
    "testDF = testDF.reset_index(drop=True)"
   ]
  },
  {
   "cell_type": "code",
   "execution_count": 12,
   "metadata": {},
   "outputs": [
    {
     "data": {
      "text/html": [
       "<div>\n",
       "<style scoped>\n",
       "    .dataframe tbody tr th:only-of-type {\n",
       "        vertical-align: middle;\n",
       "    }\n",
       "\n",
       "    .dataframe tbody tr th {\n",
       "        vertical-align: top;\n",
       "    }\n",
       "\n",
       "    .dataframe thead th {\n",
       "        text-align: right;\n",
       "    }\n",
       "</style>\n",
       "<table border=\"1\" class=\"dataframe\">\n",
       "  <thead>\n",
       "    <tr style=\"text-align: right;\">\n",
       "      <th></th>\n",
       "      <th>text</th>\n",
       "      <th>label</th>\n",
       "    </tr>\n",
       "  </thead>\n",
       "  <tbody>\n",
       "    <tr>\n",
       "      <th>0</th>\n",
       "      <td>&lt;br /&gt;&lt;br /&gt;It sucked.&lt;br /&gt;&lt;br /&gt;I returned t...</td>\n",
       "      <td>neg</td>\n",
       "    </tr>\n",
       "    <tr>\n",
       "      <th>1</th>\n",
       "      <td>I was 13 when this mini-series (and its sequel...</td>\n",
       "      <td>pos</td>\n",
       "    </tr>\n",
       "    <tr>\n",
       "      <th>2</th>\n",
       "      <td>This is the worst waste of time I've ever expe...</td>\n",
       "      <td>neg</td>\n",
       "    </tr>\n",
       "  </tbody>\n",
       "</table>\n",
       "</div>"
      ],
      "text/plain": [
       "                                                text label\n",
       "0  <br /><br />It sucked.<br /><br />I returned t...   neg\n",
       "1  I was 13 when this mini-series (and its sequel...   pos\n",
       "2  This is the worst waste of time I've ever expe...   neg"
      ]
     },
     "execution_count": 12,
     "metadata": {},
     "output_type": "execute_result"
    }
   ],
   "source": [
    "testDF.head(3)"
   ]
  },
  {
   "cell_type": "code",
   "execution_count": 13,
   "metadata": {},
   "outputs": [
    {
     "data": {
      "text/plain": [
       "(10002, 2)"
      ]
     },
     "execution_count": 13,
     "metadata": {},
     "output_type": "execute_result"
    }
   ],
   "source": [
    "testDF.shape"
   ]
  },
  {
   "cell_type": "code",
   "execution_count": 17,
   "metadata": {},
   "outputs": [
    {
     "data": {
      "text/plain": [
       "array(['pos', 'neg'], dtype=object)"
      ]
     },
     "execution_count": 17,
     "metadata": {},
     "output_type": "execute_result"
    }
   ],
   "source": [
    "trainDF['label'].unique()"
   ]
  },
  {
   "cell_type": "code",
   "execution_count": 18,
   "metadata": {},
   "outputs": [
    {
     "data": {
      "text/plain": [
       "neg    5001\n",
       "pos    5001\n",
       "Name: label, dtype: int64"
      ]
     },
     "execution_count": 18,
     "metadata": {},
     "output_type": "execute_result"
    }
   ],
   "source": [
    "trainDF['label'].value_counts()"
   ]
  },
  {
   "cell_type": "code",
   "execution_count": 19,
   "metadata": {},
   "outputs": [
    {
     "data": {
      "text/plain": [
       "<matplotlib.axes._subplots.AxesSubplot at 0x1dcc7d9b080>"
      ]
     },
     "execution_count": 19,
     "metadata": {},
     "output_type": "execute_result"
    },
    {
     "data": {
      "image/png": "[encoded data removed]",
      "text/plain": [
       "<Figure size 720x720 with 1 Axes>"
      ]
     },
     "metadata": {},
     "output_type": "display_data"
    }
   ],
   "source": [
    "sns.set(rc={'figure.figsize':(10,10)})\n",
    "sns.countplot(trainDF['label'])"
   ]
  },
  {
   "cell_type": "code",
   "execution_count": 31,
   "metadata": {},
   "outputs": [
    {
     "name": "stdout",
     "output_type": "stream",
     "text": [
      "Apple Apple PROPN NNP nsubj Xxxxx True False\n",
      "is be AUX VBZ aux xx True True\n",
      "looking look VERB VBG ROOT xxxx True False\n",
      "at at ADP IN prep xx True True\n",
      "buying buy VERB VBG pcomp xxxx True False\n",
      "U.K. U.K. PROPN NNP compound X.X. False False\n",
      "startup startup NOUN NN dobj xxxx True False\n",
      "for for ADP IN prep xxx True True\n",
      "$ $ SYM $ quantmod $ False False\n",
      "1 1 NUM CD compound d False False\n",
      "billion billion NUM CD pobj xxxx True False\n"
     ]
    }
   ],
   "source": [
    "# how spacy works - example\n",
    "import spacy\n",
    "\n",
    "nlp = spacy.load(\"en_core_web_sm\")\n",
    "doc = nlp(\"Apple is looking at buying U.K. startup for $1 billion\")\n",
    "\n",
    "for token in doc:\n",
    "    print(token.text, token.lemma_, token.pos_, token.tag_, token.dep_,\n",
    "            token.shape_, token.is_alpha, token.is_stop)"
   ]
  },
  {
   "cell_type": "code",
   "execution_count": 30,
   "metadata": {},
   "outputs": [
    {
     "name": "stdout",
     "output_type": "stream",
     "text": [
      "['!', '\"', '#', '$', '%', '&', \"'\", '(', ')', '*', '+', ',', '-', '.', '/', ':', ';', '<', '=', '>', '?', '@', '[', '\\\\', ']', '^', '_', '`', '{', '|', '}', '~', '-', '...', '”', '”', \"''\"]\n"
     ]
    }
   ],
   "source": [
    "# Data Preparation\n"
   ]
  },
  {
   "cell_type": "code",
   "execution_count": 20,
   "metadata": {},
   "outputs": [],
   "source": [
    "STOPLIST = set(stopwords.words('english') + list(ENGLISH_STOP_WORDS)) \n",
    "SYMBOLS = \" \".join(string.punctuation).split(\" \") + [\"-\", \"...\", \"”\", \"”\",\"''\"]\n",
    "\n",
    "# Data Cleaner and tokenizer\n",
    "def tokenizeText(text):\n",
    "    \n",
    "    text = text.strip().replace(\"\\n\", \" \").replace(\"\\r\", \" \")\n",
    "    text = text.lower()\n",
    "    \n",
    "    tokens = parser(text)\n",
    "    \n",
    "    lemmas = []\n",
    "    for tok in tokens:\n",
    "        lemmas.append(tok.lemma_.lower().strip() if tok.lemma_ != \"-PRON-\" else tok.lower_)\n",
    "    tokens = lemmas\n",
    "    \n",
    "    # reomve stop words and special charaters\n",
    "    tokens = [tok for tok in tokens if tok.lower() not in STOPLIST]\n",
    "    tokens = [tok for tok in tokens if tok not in SYMBOLS]\n",
    "    \n",
    "    tokens = [tok for tok in tokens if len(tok) >= 3]\n",
    "    \n",
    "    # remove remaining tokens that are not alphabetic\n",
    "    tokens = [tok for tok in tokens if tok.isalpha()]\n",
    "    \n",
    "    # stemming of words\n",
    "    #porter = PorterStemmer()\n",
    "    #tokens = [porter.stem(word) for word in tokens]\n",
    "    \n",
    "    tokens = list(set(tokens))\n",
    "    #return tokens\n",
    "    return ' '.join(tokens[:])"
   ]
  },
  {
   "cell_type": "code",
   "execution_count": 21,
   "metadata": {},
   "outputs": [],
   "source": [
    "# Data cleaning\n",
    "\n",
    "trainDF['text'] = trainDF['text'].apply(lambda x:tokenizeText(x))\n",
    "testDF['text'] = testDF['text'].apply(lambda x:tokenizeText(x))"
   ]
  },
  {
   "cell_type": "code",
   "execution_count": 22,
   "metadata": {},
   "outputs": [],
   "source": [
    "# Data preparation\n",
    "y_train = trainDF['label'].tolist()\n",
    "x_train = trainDF['text'].tolist()\n",
    "\n",
    "y_test = testDF['label'].tolist()\n",
    "x_test = testDF['text'].tolist()"
   ]
  },
  {
   "cell_type": "code",
   "execution_count": 23,
   "metadata": {},
   "outputs": [],
   "source": [
    "# Count Vectors as features\n",
    "# create a count vectorizer object \n",
    "count_vect = CountVectorizer(analyzer='word', token_pattern=r'\\w{1,}')\n",
    "count_vect.fit(x_train+x_test)\n",
    "\n",
    "# transform the training and test data using count vectorizer object\n",
    "xtrain_count =  count_vect.transform(x_train)\n",
    "xtest_count =  count_vect.transform(x_test)"
   ]
  },
  {
   "cell_type": "code",
   "execution_count": 37,
   "metadata": {},
   "outputs": [
    {
     "name": "stdout",
     "output_type": "stream",
     "text": [
      "  (0, 661)\t1\n",
      "  (0, 923)\t1\n",
      "  (0, 3324)\t1\n",
      "  (0, 5224)\t1\n",
      "  (0, 10467)\t1\n",
      "  (0, 13559)\t1\n",
      "  (0, 15332)\t1\n",
      "  (0, 19499)\t1\n",
      "  (0, 20252)\t1\n",
      "  (0, 20436)\t1\n",
      "  (0, 21438)\t1\n",
      "  (0, 23801)\t1\n",
      "  (0, 25303)\t1\n",
      "  (0, 26726)\t1\n",
      "  (0, 27017)\t1\n",
      "  (0, 27045)\t1\n",
      "  (0, 31684)\t1\n",
      "  (0, 31793)\t1\n",
      "  (0, 33031)\t1\n",
      "  (0, 33136)\t1\n",
      "  (0, 33149)\t1\n",
      "  (0, 33553)\t1\n",
      "  (0, 34478)\t1\n",
      "  (0, 35462)\t1\n",
      "  (0, 36150)\t1\n",
      "  :\t:\n",
      "  (0, 38789)\t1\n",
      "  (0, 42114)\t1\n",
      "  (0, 43189)\t1\n",
      "  (0, 43321)\t1\n",
      "  (0, 44152)\t1\n",
      "  (0, 46169)\t1\n",
      "  (0, 49460)\t1\n",
      "  (0, 50461)\t1\n",
      "  (0, 53097)\t1\n",
      "  (0, 54672)\t1\n",
      "  (0, 54686)\t1\n",
      "  (0, 56933)\t1\n",
      "  (0, 57417)\t1\n",
      "  (0, 57680)\t1\n",
      "  (0, 57747)\t1\n",
      "  (0, 58075)\t1\n",
      "  (0, 59064)\t1\n",
      "  (0, 62431)\t1\n",
      "  (0, 62447)\t1\n",
      "  (0, 62458)\t1\n",
      "  (0, 62530)\t1\n",
      "  (0, 62550)\t1\n",
      "  (0, 62760)\t1\n",
      "  (0, 63688)\t1\n",
      "  (0, 64156)\t1\n"
     ]
    }
   ],
   "source": [
    "print(xtest_count[2])"
   ]
  },
  {
   "cell_type": "code",
   "execution_count": 24,
   "metadata": {},
   "outputs": [],
   "source": [
    "#model building\n",
    "\n",
    "def train_model(classifier, feature_vector_train, label, feature_vector_valid, is_neural_net=False):\n",
    "    # fit the training dataset on the classifier\n",
    "    classifier.fit(feature_vector_train, label)\n",
    "    \n",
    "    # predict the labels on validation dataset\n",
    "    predictions = classifier.predict(feature_vector_valid)\n",
    "    \n",
    "    return metrics.accuracy_score(predictions, y_test)"
   ]
  },
  {
   "cell_type": "code",
   "execution_count": 25,
   "metadata": {},
   "outputs": [
    {
     "name": "stdout",
     "output_type": "stream",
     "text": [
      "NB, Count Vectors:  0.8226354729054189\n"
     ]
    }
   ],
   "source": [
    "# Naive Bayes on Count Vectors\n",
    "accuracy = train_model(naive_bayes.MultinomialNB(), xtrain_count, y_train, xtest_count)\n",
    "print(\"NB, Count Vectors: \", accuracy)"
   ]
  },
  {
   "cell_type": "code",
   "execution_count": 26,
   "metadata": {},
   "outputs": [
    {
     "name": "stdout",
     "output_type": "stream",
     "text": [
      "LR, Count Vectors:  0.8484303139372126\n"
     ]
    }
   ],
   "source": [
    "# Linear Classifier on Count Vectors\n",
    "accuracy = train_model(linear_model.LogisticRegression(solver=\"lbfgs\",multi_class=\"auto\",max_iter=4000), xtrain_count, y_train, xtest_count)\n",
    "print(\"LR, Count Vectors: \", accuracy)"
   ]
  },
  {
   "cell_type": "code",
   "execution_count": null,
   "metadata": {},
   "outputs": [],
   "source": []
  }
 ],
 "metadata": {
  "kernelspec": {
   "display_name": "Python 3",
   "language": "python",
   "name": "python3"
  },
  "language_info": {
   "codemirror_mode": {
    "name": "ipython",
    "version": 3
   },
   "file_extension": ".py",
   "mimetype": "text/x-python",
   "name": "python",
   "nbconvert_exporter": "python",
   "pygments_lexer": "ipython3",
   "version": "3.6.8"
  }
 },
 "nbformat": 4,
 "nbformat_minor": 2
}
